{
 "cells": [
  {
   "cell_type": "markdown",
   "metadata": {},
   "source": [
    "# classifier"
   ]
  },
  {
   "cell_type": "code",
   "execution_count": 1,
   "metadata": {
    "scrolled": true
   },
   "outputs": [
    {
     "name": "stdout",
     "output_type": "stream",
     "text": [
      "Requirement already satisfied: pandas_ml in /opt/conda/envs/DSX-Python35/lib/python3.5/site-packages (0.5.0)\n",
      "Requirement already satisfied: enum34 in /opt/conda/envs/DSX-Python35/lib/python3.5/site-packages (from pandas_ml) (1.1.6)\n",
      "Requirement already satisfied: pandas>=0.17.0 in /opt/conda/envs/DSX-Python35/lib/python3.5/site-packages (from pandas_ml) (0.21.0)\n",
      "Requirement already satisfied: python-dateutil>=2 in /opt/conda/envs/DSX-Python35/lib/python3.5/site-packages (from pandas>=0.17.0->pandas_ml) (2.7.3)\n",
      "Requirement already satisfied: pytz>=2011k in /opt/conda/envs/DSX-Python35/lib/python3.5/site-packages (from pandas>=0.17.0->pandas_ml) (2018.3)\n",
      "Requirement already satisfied: numpy>=1.9.0 in /opt/conda/envs/DSX-Python35/lib/python3.5/site-packages (from pandas>=0.17.0->pandas_ml) (1.13.3)\n",
      "Requirement already satisfied: six>=1.5 in /opt/conda/envs/DSX-Python35/lib/python3.5/site-packages (from python-dateutil>=2->pandas>=0.17.0->pandas_ml) (1.11.0)\n",
      "\u001b[31mproject-lib 1.0.8 requires ibmos2spark>=1.0.1, which is not installed.\u001b[0m\n",
      "\u001b[31mtensorflow 1.3.0 requires tensorflow-tensorboard<0.2.0,>=0.1.0, which is not installed.\u001b[0m\n",
      "Collecting watson-developer-cloud==1.3.3\n",
      "Collecting python-dateutil>=2.5.3 (from watson-developer-cloud==1.3.3)\n",
      "  Using cached https://files.pythonhosted.org/packages/cf/f5/af2b09c957ace60dcfac112b669c45c8c97e32f94aa8b56da4c6d1682825/python_dateutil-2.7.3-py2.py3-none-any.whl\n",
      "Collecting service-identity>=17.0.0 (from watson-developer-cloud==1.3.3)\n",
      "  Using cached https://files.pythonhosted.org/packages/29/fa/995e364220979e577e7ca232440961db0bf996b6edaf586a7d1bd14d81f1/service_identity-17.0.0-py2.py3-none-any.whl\n",
      "Collecting autobahn>=0.10.9 (from watson-developer-cloud==1.3.3)\n",
      "  Using cached https://files.pythonhosted.org/packages/1b/92/5753b2123802a81bda4a9cf759732dfab21baffb3bfcdac725e097df39df/autobahn-18.5.1-py2.py3-none-any.whl\n",
      "Collecting pyOpenSSL>=16.2.0 (from watson-developer-cloud==1.3.3)\n",
      "  Using cached https://files.pythonhosted.org/packages/79/db/7c0cfe4aa8341a5fab4638952520d8db6ab85ff84505e12c00ea311c3516/pyOpenSSL-17.5.0-py2.py3-none-any.whl\n",
      "Collecting Twisted>=13.2.0 (from watson-developer-cloud==1.3.3)\n",
      "Collecting requests<3.0,>=2.0 (from watson-developer-cloud==1.3.3)\n",
      "  Using cached https://files.pythonhosted.org/packages/49/df/50aa1999ab9bde74656c2919d9c0c085fd2b3775fd3eca826012bef76d8c/requests-2.18.4-py2.py3-none-any.whl\n",
      "Collecting six>=1.5 (from python-dateutil>=2.5.3->watson-developer-cloud==1.3.3)\n",
      "  Using cached https://files.pythonhosted.org/packages/67/4b/141a581104b1f6397bfa78ac9d43d8ad29a7ca43ea90a2d863fe3056e86a/six-1.11.0-py2.py3-none-any.whl\n",
      "Collecting attrs (from service-identity>=17.0.0->watson-developer-cloud==1.3.3)\n",
      "  Using cached https://files.pythonhosted.org/packages/41/59/cedf87e91ed541be7957c501a92102f9cc6363c623a7666d69d51c78ac5b/attrs-18.1.0-py2.py3-none-any.whl\n",
      "Collecting pyasn1-modules (from service-identity>=17.0.0->watson-developer-cloud==1.3.3)\n",
      "  Using cached https://files.pythonhosted.org/packages/e9/51/bcd96bf6231d4b2cc5e023c511bee86637ba375c44a6f9d1b4b7ad1ce4b9/pyasn1_modules-0.2.1-py2.py3-none-any.whl\n",
      "Collecting pyasn1 (from service-identity>=17.0.0->watson-developer-cloud==1.3.3)\n",
      "  Using cached https://files.pythonhosted.org/packages/ba/fe/02e3e2ee243966b143657fb8bd6bc97595841163b6d8c26820944acaec4d/pyasn1-0.4.2-py2.py3-none-any.whl\n",
      "Collecting txaio>=2.10.0 (from autobahn>=0.10.9->watson-developer-cloud==1.3.3)\n",
      "  Using cached https://files.pythonhosted.org/packages/dc/2e/c8a877b0a5c2798fa93ebcc1465a72a68c089e5f8b0a852ca335751dcc5a/txaio-2.10.0-py2.py3-none-any.whl\n",
      "Collecting cryptography>=2.1.4 (from pyOpenSSL>=16.2.0->watson-developer-cloud==1.3.3)\n",
      "  Using cached https://files.pythonhosted.org/packages/fa/f4/3cde3604972dfa2b0fea85b9711948bb4fb70ab64095322aef35071bd254/cryptography-2.2.2-cp34-abi3-manylinux1_x86_64.whl\n",
      "Collecting constantly>=15.1 (from Twisted>=13.2.0->watson-developer-cloud==1.3.3)\n",
      "  Using cached https://files.pythonhosted.org/packages/b9/65/48c1909d0c0aeae6c10213340ce682db01b48ea900a7d9fce7a7910ff318/constantly-15.1.0-py2.py3-none-any.whl\n",
      "Collecting Automat>=0.3.0 (from Twisted>=13.2.0->watson-developer-cloud==1.3.3)\n",
      "  Using cached https://files.pythonhosted.org/packages/17/6a/1baf488c2015ecafda48c03ca984cf0c48c254622668eb1732dbe2eae118/Automat-0.6.0-py2.py3-none-any.whl\n",
      "Collecting zope.interface>=4.4.2 (from Twisted>=13.2.0->watson-developer-cloud==1.3.3)\n",
      "Collecting incremental>=16.10.1 (from Twisted>=13.2.0->watson-developer-cloud==1.3.3)\n",
      "  Using cached https://files.pythonhosted.org/packages/f5/1d/c98a587dc06e107115cf4a58b49de20b19222c83d75335a192052af4c4b7/incremental-17.5.0-py2.py3-none-any.whl\n",
      "Collecting hyperlink>=17.1.1 (from Twisted>=13.2.0->watson-developer-cloud==1.3.3)\n",
      "  Using cached https://files.pythonhosted.org/packages/a7/b6/84d0c863ff81e8e7de87cff3bd8fd8f1054c227ce09af1b679a8b17a9274/hyperlink-18.0.0-py2.py3-none-any.whl\n",
      "Collecting urllib3<1.23,>=1.21.1 (from requests<3.0,>=2.0->watson-developer-cloud==1.3.3)\n",
      "  Using cached https://files.pythonhosted.org/packages/63/cb/6965947c13a94236f6d4b8223e21beb4d576dc72e8130bd7880f600839b8/urllib3-1.22-py2.py3-none-any.whl\n",
      "Collecting chardet<3.1.0,>=3.0.2 (from requests<3.0,>=2.0->watson-developer-cloud==1.3.3)\n",
      "  Using cached https://files.pythonhosted.org/packages/bc/a9/01ffebfb562e4274b6487b4bb1ddec7ca55ec7510b22e4c51f14098443b8/chardet-3.0.4-py2.py3-none-any.whl\n",
      "Collecting idna<2.7,>=2.5 (from requests<3.0,>=2.0->watson-developer-cloud==1.3.3)\n",
      "  Using cached https://files.pythonhosted.org/packages/27/cc/6dd9a3869f15c2edfab863b992838277279ce92663d334df9ecf5106f5c6/idna-2.6-py2.py3-none-any.whl\n",
      "Collecting certifi>=2017.4.17 (from requests<3.0,>=2.0->watson-developer-cloud==1.3.3)\n",
      "  Using cached https://files.pythonhosted.org/packages/7c/e6/92ad559b7192d846975fc916b65f667c7b8c3a32bea7372340bfe9a15fa5/certifi-2018.4.16-py2.py3-none-any.whl\n",
      "Collecting cffi>=1.7; platform_python_implementation != \"PyPy\" (from cryptography>=2.1.4->pyOpenSSL>=16.2.0->watson-developer-cloud==1.3.3)\n",
      "  Using cached https://files.pythonhosted.org/packages/59/cc/0e1635b4951021ef35f5c92b32c865ae605fac2a19d724fb6ff99d745c81/cffi-1.11.5-cp35-cp35m-manylinux1_x86_64.whl\n",
      "Collecting asn1crypto>=0.21.0 (from cryptography>=2.1.4->pyOpenSSL>=16.2.0->watson-developer-cloud==1.3.3)\n",
      "  Using cached https://files.pythonhosted.org/packages/ea/cd/35485615f45f30a510576f1a56d1e0a7ad7bd8ab5ed7cdc600ef7cd06222/asn1crypto-0.24.0-py2.py3-none-any.whl\n",
      "Collecting setuptools (from zope.interface>=4.4.2->Twisted>=13.2.0->watson-developer-cloud==1.3.3)\n",
      "  Using cached https://files.pythonhosted.org/packages/8c/10/79282747f9169f21c053c562a0baa21815a8c7879be97abd930dbcf862e8/setuptools-39.1.0-py2.py3-none-any.whl\n",
      "Collecting pycparser (from cffi>=1.7; platform_python_implementation != \"PyPy\"->cryptography>=2.1.4->pyOpenSSL>=16.2.0->watson-developer-cloud==1.3.3)\n",
      "\u001b[31mproject-lib 1.0.8 requires ibmos2spark>=1.0.1, which is not installed.\u001b[0m\n",
      "\u001b[31mtensorflow 1.3.0 requires tensorflow-tensorboard<0.2.0,>=0.1.0, which is not installed.\u001b[0m\n",
      "Installing collected packages: six, python-dateutil, pycparser, cffi, asn1crypto, idna, cryptography, pyOpenSSL, attrs, pyasn1, pyasn1-modules, service-identity, txaio, autobahn, constantly, Automat, setuptools, zope.interface, incremental, hyperlink, Twisted, urllib3, chardet, certifi, requests, watson-developer-cloud\n"
     ]
    }
   ],
   "source": [
    "!pip install pandas_ml\n",
    "!pip install -I watson-developer-cloud==1.3.3"
   ]
  },
  {
   "cell_type": "code",
   "execution_count": 5,
   "metadata": {
    "collapsed": true
   },
   "outputs": [],
   "source": [
    "import json\n",
    "import sys\n",
    "import codecs\n",
    "import unicodecsv as csv\n",
    "from sklearn.metrics import confusion_matrix\n",
    "from sklearn.metrics import precision_recall_fscore_support\n",
    "from sklearn.metrics import classification_report\n",
    "from sklearn.metrics import accuracy_score\n",
    "import matplotlib.pyplot as plt\n",
    "import pandas_ml\n",
    "from pandas_ml import ConfusionMatrix\n",
    "from watson_developer_cloud import WatsonApiException\n",
    "from watson_developer_cloud import AssistantV1"
   ]
  },
  {
   "cell_type": "code",
   "execution_count": null,
   "metadata": {
    "collapsed": true
   },
   "outputs": [],
   "source": [
    "# params\n",
    "convParmsFile = '/Users/jrnash/sretan.json'\n",
    "parms = ''\n",
    "with open(convParmsFile) as parmFile:\n",
    "    parms = json.load(parmFile)\n",
    "\n",
    "url=parms['url']\n",
    "user=parms['user']\n",
    "password=parms['password']\n",
    "workspace_id=parms['workspace_id']\n",
    "test_csv_file=parms['test_csv_file']\n",
    "results_csv_file=parms['results_csv_file']\n",
    "confmatrix_csv_file=parms['confmatrix_csv_file']\n",
    "\n",
    "assistant = AssistantV1(\n",
    "  username=user,\n",
    "  password=password,\n",
    "  version='2018-02-16')\n",
    "\n",
    "assistant.set_http_config({'timeout': 100})"
   ]
  },
  {
   "cell_type": "code",
   "execution_count": null,
   "metadata": {
    "collapsed": true
   },
   "outputs": [],
   "source": [
    "#test\n",
    "\n",
    "def get_res(assist_instance,workspaceID,string):\n",
    "    \n",
    "    context = {}    \n",
    "    string = string.replace(\"\\n\",\"\")\n",
    "    res = assist_instance.message(\n",
    "        workspace_id=workspaceID,\n",
    "        input={'text':string})\n",
    "    classes=res\n",
    "    return classes\n",
    "\n",
    "    # context object not necessary for call\n",
    "    # alternate_intents=True in call for other intents\n",
    "\n",
    "    \n",
    "# batches from csv of text\n",
    "\n",
    "def batch(assist_instance,workspaceID,csvfile):\n",
    "    test_class=[]\n",
    "    assist_predict_classes=[]\n",
    "    assist_predict_confidence=[]\n",
    "    text=[]\n",
    "    j=0\n",
    "    print ('csv: ', csvfile)\n",
    "    \n",
    "    \n",
    "    with open(csvfile,\"rb\") as csvfile:\n",
    "        csvReader = csv.reader(csvfile, encoding=\"utf-8-sig\")\n",
    "        \n",
    "        for row in csvReader:\n",
    "            if len(row) > 2:\n",
    "                elements = row[0:len(row)-1]\n",
    "                utter = \",\".join(elements)\n",
    "                test_class.append(row[len(row)-1])\n",
    "            else:\n",
    "                utter = row[0]\n",
    "                test_class.append(row[1])\n",
    "            utter = utter.replace('\\r', ' ')\n",
    "            print (' test: ', j, 'testing row ', utter)\n",
    "            \n",
    "            \n",
    "            assist_response = get_res(assist_instance,workspaceID,utter)\n",
    "\n",
    "            if assist_response['intents']:\n",
    "                assist_predict_classes.append(assist_response['intents'][0]['intent'])\n",
    "                assist_predict_confidence.append(assist_response['intents'][0]['confidence'])\n",
    "            else:\n",
    "                assist_predict_classes.append('')\n",
    "                assist_predict_confidence.append(0)\n",
    "            text.append(utter)\n",
    "            j = j+1\n",
    "            # counts on processed\n",
    "            if(j%250 == 0):\n",
    "                print(\"\")\n",
    "                print('processed ',j, ' records')\n",
    "            \n",
    "            if(j%10 == 0):\n",
    "                sys.stdout.write('.'),\n",
    "        print('finished!! ', j, '  records')\n",
    "    return test_class, assist_predict_classes, assist_predict_confidence, text\n",
    "\n",
    "def conf_matrix(conf_matrix):\n",
    "    plt.figure()\n",
    "    plt.imshow(conf_matrix)\n",
    "    plt.show()\n",
    "\n",
    "    def matrixforcsv(conf_matrix,labels,csvfile):\n",
    "        with open(csvfile, 'wb') as csvfile:\n",
    "            csvWriter = csv.writer(csvfile)\n",
    "            row=list(labels)\n",
    "            row.insert(0,\"\")\n",
    "            csvWriter.writerow(row)\n",
    "            for i in range(conf_matrix.shape[0]):\n",
    "                row=list(conf_matrix[j])\n",
    "                row.insert(0, labels[j])\n",
    "                csvWriter.writerow(row)\n",
    "test = \"Lorem ipsum dolor sit amet, consectetur adipiscing elit, sed do eiusmod tempor incididunt ut labore et dolore magna aliqua. Ut enim ad minim veniam, quis nostrud exercitation ullamco laboris nisi ut aliquip ex ea commodo consequat. Duis aute irure dolor in reprehenderit in voluptate velit esse cillum dolore eu fugiat nulla pariatur. Excepteur sint occaecat cupidatat non proident, sunt in culpa qui officia deserunt mollit anim id est laborum\"\n",
    "result = get_res(assistant, workspace_id, test)\n",
    "print(json.dumps(result, indent=2))"
   ]
  },
  {
   "cell_type": "code",
   "execution_count": null,
   "metadata": {
    "collapsed": true
   },
   "outputs": [],
   "source": [
    "#remove alternate_intents=True from get_res function\n",
    "\n",
    "test_class, assist_predict_classes, assist_predict_confidence, text=batch(assistant,workspace_id,test_csv_file)"
   ]
  },
  {
   "cell_type": "code",
   "execution_count": null,
   "metadata": {
    "collapsed": true
   },
   "outputs": [],
   "source": [
    "# print\n",
    "\n",
    "csvfileOut = results_csv_file\n",
    "csvWriter = codecs.open(csvfileOut, 'w', encoding=\"utf-8-sig\")\n",
    "\n",
    "outrow = ['Comments','True Class','Watson Predicted Class','Confidence']\n",
    "csvWriter.write(\"Comments\"+\",\"+\"True Class\"+\",\"+\"Watson Predicted Class\"+\",\"+\"Confidence\")\n",
    "csvWriter.write('\\n')\n",
    "\n",
    "\n",
    "for j in range(len(text)):\n",
    "    t = text[j]\n",
    "    txtx = text[j]\n",
    "    if txtx[:1] != '\"' or txtx.strip()[-1] != '\"':\n",
    "        txtx = \"\\\"\" + txtx + \"\\\"\"\n",
    "        \n",
    "    csvWriter.write(txtx+\",\"+test_class[j]+\",\"+str(assist_predict_classes[j])+\",\"+str(assist_predict_confidence[j]))\n",
    "    csvWriter.write(\"\\n\")\n",
    "csvWriter.close()"
   ]
  },
  {
   "cell_type": "code",
   "execution_count": null,
   "metadata": {
    "collapsed": true
   },
   "outputs": [],
   "source": []
  }
 ],
 "metadata": {
  "kernelspec": {
   "display_name": "Python 3",
   "language": "python",
   "name": "python3"
  },
  "language_info": {
   "codemirror_mode": {
    "name": "ipython",
    "version": 3
   },
   "file_extension": ".py",
   "mimetype": "text/x-python",
   "name": "python",
   "nbconvert_exporter": "python",
   "pygments_lexer": "ipython3",
   "version": "3.6.1"
  }
 },
 "nbformat": 4,
 "nbformat_minor": 2
}
